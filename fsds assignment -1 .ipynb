{
 "cells": [
  {
   "cell_type": "code",
   "execution_count": 1,
   "id": "58e9aa02",
   "metadata": {},
   "outputs": [
    {
     "ename": "SyntaxError",
     "evalue": "invalid syntax (Temp/ipykernel_21636/1565474212.py, line 1)",
     "output_type": "error",
     "traceback": [
      "\u001b[1;36m  File \u001b[1;32m\"C:\\Users\\PD1D7~1.SUR\\AppData\\Local\\Temp/ipykernel_21636/1565474212.py\"\u001b[1;36m, line \u001b[1;32m1\u001b[0m\n\u001b[1;33m    1. In the below elements which of them are values or an expression? eg:- values can be\u001b[0m\n\u001b[1;37m       ^\u001b[0m\n\u001b[1;31mSyntaxError\u001b[0m\u001b[1;31m:\u001b[0m invalid syntax\n"
     ]
    }
   ],
   "source": [
    "1. In the below elements which of them are values or an expression? eg:- values can be\n",
    "integer or string and expressions will be mathematical operators.\n",
    "* - expressions\n",
    "'hello' - string \n",
    "-87.8 - Integer\n",
    "- - expressions\n",
    "/ - expressions\n",
    "+ - expressions\n",
    "6 - integer "
   ]
  },
  {
   "cell_type": "code",
   "execution_count": null,
   "id": "745f0512",
   "metadata": {},
   "outputs": [],
   "source": [
    "2. What is the difference between string and variable?\n",
    "string - it is a series of characters enclosed within quotes\n",
    "variable - is used to assign some value / hold some value , store the data "
   ]
  },
  {
   "cell_type": "code",
   "execution_count": null,
   "id": "16143bdb",
   "metadata": {},
   "outputs": [],
   "source": [
    "3. Describe three different data types.\n",
    "integer, floating point number , complex number , boolean / list, tuple, dictionary , set "
   ]
  },
  {
   "cell_type": "code",
   "execution_count": null,
   "id": "299cf1f8",
   "metadata": {},
   "outputs": [],
   "source": [
    "4. What is an expression made up of? What do all expressions do?\n",
    " Expression is combination of values, variables, operators, and calls to functions. Expressions do evalution"
   ]
  },
  {
   "cell_type": "code",
   "execution_count": null,
   "id": "fbe8e237",
   "metadata": {},
   "outputs": [],
   "source": [
    "5. This assignment statements, like spam = 10. What is the difference between an\n",
    "expression and a statement?\n",
    "Expressions gives result after evalution while statement wont give any result."
   ]
  },
  {
   "cell_type": "code",
   "execution_count": null,
   "id": "717dfe9d",
   "metadata": {},
   "outputs": [],
   "source": [
    "6. After running the following code, what does the variable bacon contain?\n",
    "bacon = 22\n",
    "bacon + 1\n",
    "bacon will contain 22"
   ]
  },
  {
   "cell_type": "code",
   "execution_count": null,
   "id": "fae5525c",
   "metadata": {},
   "outputs": [],
   "source": [
    "7. What should the values of the following two terms be?\n",
    "'spam' + 'spamspam' - 'spamspamspam'\n",
    "'spam' * 3 - 'spamspamspam'"
   ]
  },
  {
   "cell_type": "code",
   "execution_count": 3,
   "id": "98912024",
   "metadata": {},
   "outputs": [
    {
     "data": {
      "text/plain": [
       "'spamspamspam'"
      ]
     },
     "execution_count": 3,
     "metadata": {},
     "output_type": "execute_result"
    }
   ],
   "source": [
    "8. Why is eggs a valid variable name while 100 is invalid?\n",
    "Because according Python rules for declaring a variable –\n",
    "\tA variable can not start with integer.\n",
    "\tA variable name starts with name or underscore"
   ]
  },
  {
   "cell_type": "code",
   "execution_count": null,
   "id": "5ae0ddfe",
   "metadata": {},
   "outputs": [],
   "source": [
    "9. What three functions can be used to get the integer, floating-point number, or string\n",
    "version of a value?\n",
    "int()\n",
    "float()\n",
    "str()\n"
   ]
  },
  {
   "cell_type": "code",
   "execution_count": null,
   "id": "ab3220e5",
   "metadata": {},
   "outputs": [],
   "source": [
    "10. Why does this expression cause an error? How can you fix it?\n",
    "Mathemetical operation or string concatenation can not be performed between values and and strings.\n",
    "It will be performed if everyvalue is string or value.\n",
    "It can be fixed by keeping single quotes to 99\n",
    "    'I have eaten ' + '99' + ' burritos.' "
   ]
  }
 ],
 "metadata": {
  "kernelspec": {
   "display_name": "Python 3 (ipykernel)",
   "language": "python",
   "name": "python3"
  },
  "language_info": {
   "codemirror_mode": {
    "name": "ipython",
    "version": 3
   },
   "file_extension": ".py",
   "mimetype": "text/x-python",
   "name": "python",
   "nbconvert_exporter": "python",
   "pygments_lexer": "ipython3",
   "version": "3.9.7"
  }
 },
 "nbformat": 4,
 "nbformat_minor": 5
}
